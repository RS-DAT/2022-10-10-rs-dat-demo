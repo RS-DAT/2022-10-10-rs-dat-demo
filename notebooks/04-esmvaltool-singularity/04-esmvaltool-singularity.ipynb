{
 "cells": [
  {
   "cell_type": "markdown",
   "id": "fc84c549-1e95-4aec-b9fc-c56a16024600",
   "metadata": {},
   "source": [
    "# Demo: Run an esmvaltool recipe using containers"
   ]
  },
  {
   "cell_type": "markdown",
   "id": "e0e93897-8e1a-4029-a9ef-9996f8fd56cb",
   "metadata": {},
   "source": [
    "In this example, we demonstrate how to execute an ESMValtool recipe using containers on Spiders infrastructure."
   ]
  },
  {
   "cell_type": "markdown",
   "id": "c9bb6d31",
   "metadata": {},
   "source": [
    "## Prerequest: Starting a Jupyter Server on Spider.\n",
    "\n",
    "A Jupyter Server should be started on Spider as the environment to execute this notebook. You can follow [this instruction](https://github.com/RS-DAT/JupyterDaskOnSLURM) to start a Jupyter server on Spider.\n",
    "\n",
    "After successfully setting up the Jupyter server, please copy this notebook to the Spider file system. Then open it from the browser on your local PC (as specified in the above instructon). Effectively, this notebook run as a Slurm job on Spider."
   ]
  },
  {
   "cell_type": "markdown",
   "id": "bf44d734",
   "metadata": {},
   "source": [
    "## Step 1: build a Singularity container\n",
    "\n",
    "ESMValTool is provided in the form of Docker containers. However on Spiders, [it is suggested to use Singularity](https://spiderdocs.readthedocs.io/en/latest/Pages/software_on_spider.html?highlight=singularity#singularity-containers) as the container technology. Therefore we will convert the existing Docker container to a Singularity container. Please run this command on Spiders:\n",
    "\n",
    "```sh\n",
    "# Step1: build sif image (this should be done once)\n",
    "singularity build esmvaltool_stable.sif docker://esmvalgroup/esmvaltool:stable\n",
    "```\n",
    "\n",
    "This will build a Singularity Image File (.sif) named `esmvaltool_stable.sif` on the Spiders file system, from DockerHub. Note that this may take ~20 minutes."
   ]
  },
  {
   "cell_type": "markdown",
   "id": "fbcc24a3",
   "metadata": {},
   "source": [
    "## Step 2: User configeration\n",
    "One can run the following command to get the user configeration file."
   ]
  },
  {
   "cell_type": "code",
   "execution_count": null,
   "id": "43b7e268-b33f-4a54-ba1f-fec9fd8517f5",
   "metadata": {},
   "outputs": [],
   "source": [
    "# Get user config file\n",
    "!singularity run esmvaltool_stable.sif config get_config_user"
   ]
  },
  {
   "cell_type": "markdown",
   "id": "48a0d67b",
   "metadata": {},
   "source": [
    "## Step 3: Execute recipe"
   ]
  },
  {
   "cell_type": "code",
   "execution_count": null,
   "id": "05ccbf46-2266-4913-a513-f24a261adeae",
   "metadata": {},
   "outputs": [],
   "source": [
    "from dask.distributed import Client\n",
    "\n",
    "client = Client(\"tcp://145.136.56.209:46573\")\n",
    "client"
   ]
  },
  {
   "cell_type": "markdown",
   "id": "1153b184-5877-4d7c-889a-15311698f33b",
   "metadata": {
    "jp-MarkdownHeadingCollapsed": true,
    "tags": []
   },
   "source": [
    "-- Add here the cluster --"
   ]
  },
  {
   "cell_type": "code",
   "execution_count": null,
   "id": "4742f29d-1432-4221-ac47-e4c5316a1b40",
   "metadata": {},
   "outputs": [],
   "source": [
    "import os\n",
    "\n",
    "# Get the abusolte path for the working directory\n",
    "cwd = os.getcwd()\n",
    "f_sif = '{}/esmvaltool_stable.sif'.format(cwd)\n",
    "dir_recipe = '{}/recipes'.format(cwd)\n",
    "\n",
    "# Two recipes for two datasets\n",
    "recipes = ['recipe_dataset1.yml', 'recipe_dataset2.yml']\n",
    "\n",
    "# Set up shells commands\n",
    "commands = ['singularity run {} run {}/{} --offline=False'.format(f_sif, dir_recipe, r) for r in recipes]\n",
    "commands"
   ]
  },
  {
   "cell_type": "code",
   "execution_count": null,
   "id": "64aa907b-2c4e-4f2b-9bd3-e31936e87508",
   "metadata": {},
   "outputs": [],
   "source": [
    "# Submit the commands\n",
    "future = client.map(os.system, commands)"
   ]
  },
  {
   "cell_type": "code",
   "execution_count": null,
   "id": "9f85f72c-2c83-477c-8784-76c2b10dd788",
   "metadata": {},
   "outputs": [],
   "source": [
    "future"
   ]
  },
  {
   "cell_type": "markdown",
   "id": "9393720e-bc0c-4722-b2fb-14a82ac1ba9b",
   "metadata": {},
   "source": [
    "Once finished, one can check the downloaded climate data files and the generated results:"
   ]
  },
  {
   "cell_type": "code",
   "execution_count": null,
   "id": "e2d0a804-f364-4ee8-8635-340746266bdb",
   "metadata": {},
   "outputs": [],
   "source": [
    "# Check generated results\n",
    "!tree ~/esmvaltool_output/"
   ]
  }
 ],
 "metadata": {
  "kernelspec": {
   "display_name": "Python 3 (ipykernel)",
   "language": "python",
   "name": "python3"
  },
  "language_info": {
   "codemirror_mode": {
    "name": "ipython",
    "version": 3
   },
   "file_extension": ".py",
   "mimetype": "text/x-python",
   "name": "python",
   "nbconvert_exporter": "python",
   "pygments_lexer": "ipython3",
   "version": "3.10.2"
  },
  "vscode": {
   "interpreter": {
    "hash": "02835d5cd57458205e59899edb11fdcb9a0651fb5a52f81360dd4343685cd4f4"
   }
  }
 },
 "nbformat": 4,
 "nbformat_minor": 5
}
