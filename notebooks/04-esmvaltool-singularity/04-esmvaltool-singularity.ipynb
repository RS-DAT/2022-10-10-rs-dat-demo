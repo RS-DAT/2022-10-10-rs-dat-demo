{
 "cells": [
  {
   "cell_type": "markdown",
   "id": "fc84c549-1e95-4aec-b9fc-c56a16024600",
   "metadata": {},
   "source": [
    "# Demo: Run an esmvaltool recipe using containers"
   ]
  },
  {
   "cell_type": "markdown",
   "id": "e0e93897-8e1a-4029-a9ef-9996f8fd56cb",
   "metadata": {},
   "source": [
    "In this example, we demonstrate how to execute an ESMValtool recipe using containers on Spiders infrastructure."
   ]
  },
  {
   "cell_type": "markdown",
   "id": "c9bb6d31",
   "metadata": {},
   "source": [
    "## Prerequest: Starting a Jupyter Server on Spider.\n",
    "\n",
    "A Jupyter Server should be started on Spider as the environment to execute this notebook. You can follow [this instruction](https://github.com/RS-DAT/JupyterDaskOnSLURM) to start a Jupyter server on Spider.\n",
    "\n",
    "After successfully setting up the Jupyter server, please copy this notebook to the Spider file system. Then open it from the browser on your local PC (as specified in the above instructon). Effectively, this notebook run as a Slurm job on Spider."
   ]
  },
  {
   "cell_type": "markdown",
   "id": "bf44d734",
   "metadata": {},
   "source": [
    "## Step 1: build a Singularity container\n",
    "\n",
    "ESMValTool is provided in the form of Docker containers. However on Spiders, [it is suggested to use Singularity](https://spiderdocs.readthedocs.io/en/latest/Pages/software_on_spider.html?highlight=singularity#singularity-containers) as the container technology. Therefore we will convert the existing Docker container to a Singularity container. Please run this command on Spiders:\n",
    "\n",
    "```sh\n",
    "# Step1: build sif image (this should be done once)\n",
    "singularity build esmvaltool_stable.sif docker://esmvalgroup/esmvaltool:stable\n",
    "```\n",
    "\n",
    "This will build a Singularity Image File (.sif) named `esmvaltool_stable.sif` on the Spiders file system, from DockerHub. Note that this may take ~20 minutes."
   ]
  },
  {
   "cell_type": "markdown",
   "id": "fbcc24a3",
   "metadata": {},
   "source": [
    "## Step 2: User configeration\n",
    "One can run the following command to apply user configurations for the ESMVALTool."
   ]
  },
  {
   "cell_type": "code",
   "execution_count": 2,
   "id": "43b7e268-b33f-4a54-ba1f-fec9fd8517f5",
   "metadata": {},
   "outputs": [
    {
     "name": "stdout",
     "output_type": "stream",
     "text": [
      "2022-09-27 10:30:33,813 UTC [3531224] INFO    Creating folder /home/caroline-oku/.esmvaltool\n",
      "2022-09-27 10:30:33,815 UTC [3531224] INFO    Copying file /opt/conda/envs/esmvaltool/lib/python3.10/site-packages/esmvalcore/config-user.yml to path /home/caroline-oku/.esmvaltool/config-user.yml.\n",
      "2022-09-27 10:30:33,817 UTC [3531224] INFO    Copy finished.\n",
      "\n"
     ]
    }
   ],
   "source": [
    "# Get user config file\n",
    "!singularity run esmvaltool_stable.sif config get_config_user"
   ]
  },
  {
   "cell_type": "markdown",
   "id": "48a0d67b",
   "metadata": {},
   "source": [
    "## Step 3: Execute recipe"
   ]
  },
  {
   "cell_type": "markdown",
   "id": "8443bb7e-aa48-4b81-98d3-9e8cc8df23f3",
   "metadata": {},
   "source": [
    "We will execute two recipes under the folder `recipes`. Both of them plots a map of global temperature in January 2000, and plot a time series of mean annual temperature from 1850 to 2000. The difference of the two recepies are the climate datasets they use. In practice, if the dataset is huge, sequetially executing the two recipies will not be efficient.\n",
    "\n",
    "In this example, we will demonstrate how to parallely executing the two recipies with a dask cluster."
   ]
  },
  {
   "cell_type": "markdown",
   "id": "1153b184-5877-4d7c-889a-15311698f33b",
   "metadata": {
    "jp-MarkdownHeadingCollapsed": true,
    "tags": []
   },
   "source": [
    "-- Please click this block, and add a Dask cluster using the Dask tab on the left of your Jupyter terminal. --\n",
    "\n",
    "-- You can first click the `Scale` button to set up the number of workers. Then click `<>` to add a code block --\n"
   ]
  },
  {
   "cell_type": "code",
   "execution_count": 20,
   "id": "4742f29d-1432-4221-ac47-e4c5316a1b40",
   "metadata": {},
   "outputs": [
    {
     "data": {
      "text/plain": [
       "['singularity run /home/caroline-oku/demo_singularity/demo_singularity_esmvaltool/esmvaltool_stable.sif run /home/caroline-oku/demo_singularity/demo_singularity_esmvaltool/recipes/recipe_dataset1.yml --offline=False',\n",
       " 'singularity run /home/caroline-oku/demo_singularity/demo_singularity_esmvaltool/esmvaltool_stable.sif run /home/caroline-oku/demo_singularity/demo_singularity_esmvaltool/recipes/recipe_dataset2.yml --offline=False']"
      ]
     },
     "execution_count": 20,
     "metadata": {},
     "output_type": "execute_result"
    }
   ],
   "source": [
    "# Set up the commands for execution\n",
    "import os\n",
    "\n",
    "# Get the abusolte path for the working directory\n",
    "cwd = os.getcwd()\n",
    "f_sif = '{}/esmvaltool_stable.sif'.format(cwd)\n",
    "dir_recipe = '{}/recipes'.format(cwd)\n",
    "\n",
    "# Two recipes for two datasets\n",
    "recipes = ['recipe_dataset1.yml', 'recipe_dataset2.yml']\n",
    "\n",
    "# Set up shells commands\n",
    "commands = ['singularity run {} run {}/{} --offline=False'.format(f_sif, dir_recipe, r) for r in recipes]\n",
    "commands"
   ]
  },
  {
   "cell_type": "markdown",
   "id": "4ccf37b8-4f4b-4279-bc68-b03d8007f3c2",
   "metadata": {},
   "source": [
    "One can submit the commands to the Dask clusteras follow:"
   ]
  },
  {
   "cell_type": "code",
   "execution_count": 4,
   "id": "64aa907b-2c4e-4f2b-9bd3-e31936e87508",
   "metadata": {},
   "outputs": [],
   "source": [
    "# Submit the commands\n",
    "future = client.map(os.system, commands)"
   ]
  },
  {
   "cell_type": "code",
   "execution_count": 15,
   "id": "9f85f72c-2c83-477c-8784-76c2b10dd788",
   "metadata": {},
   "outputs": [
    {
     "data": {
      "text/plain": [
       "[<Future: finished, type: int, key: system-e879bb29e07bc8513966c1f2d5a62896>,\n",
       " <Future: finished, type: int, key: system-35008dcc096c451ca0fbfe5cb37433a3>]"
      ]
     },
     "execution_count": 15,
     "metadata": {},
     "output_type": "execute_result"
    }
   ],
   "source": [
    "future"
   ]
  },
  {
   "cell_type": "markdown",
   "id": "9393720e-bc0c-4722-b2fb-14a82ac1ba9b",
   "metadata": {},
   "source": [
    "Once finished, one can check the downloaded climate data files and the generated results:"
   ]
  },
  {
   "cell_type": "code",
   "execution_count": 18,
   "id": "4eb61df8-f2e8-4723-bc7a-96eb6840b9c3",
   "metadata": {},
   "outputs": [
    {
     "name": "stdout",
     "output_type": "stream",
     "text": [
      "\u001b[38;5;33m/home/caroline-oku/climate_data/\u001b[0m\n",
      "├── \u001b[38;5;33mcmip5\u001b[0m\n",
      "│   └── \u001b[38;5;33moutput1\u001b[0m\n",
      "│       ├── \u001b[38;5;33mCCCma\u001b[0m\n",
      "│       │   └── \u001b[38;5;33mCanESM2\u001b[0m\n",
      "│       ├── \u001b[38;5;33mCNRM-CERFACS\u001b[0m\n",
      "│       │   └── \u001b[38;5;33mCNRM-CM5\u001b[0m\n",
      "│       └── \u001b[38;5;33mNSF-DOE-NCAR\u001b[0m\n",
      "│           └── \u001b[38;5;33mCESM1-CAM5\u001b[0m\n",
      "└── \u001b[38;5;33mCMIP6\u001b[0m\n",
      "    └── \u001b[38;5;33mCMIP\u001b[0m\n",
      "        └── \u001b[38;5;33mBCC\u001b[0m\n",
      "            └── \u001b[38;5;33mBCC-ESM1\u001b[0m\n",
      "\n",
      "12 directories, 0 files\n"
     ]
    }
   ],
   "source": [
    "# Check the retrived climate data\n",
    "!tree -L 4 ~/climate_data/"
   ]
  },
  {
   "cell_type": "code",
   "execution_count": 19,
   "id": "e2d0a804-f364-4ee8-8635-340746266bdb",
   "metadata": {},
   "outputs": [
    {
     "name": "stdout",
     "output_type": "stream",
     "text": [
      "\u001b[38;5;33m/home/caroline-oku/esmvaltool_output/\u001b[0m\n",
      "├── \u001b[38;5;33mrecipe_dataset1_20220927_103054\u001b[0m\n",
      "│   ├── index.html\n",
      "│   ├── \u001b[38;5;33mplots\u001b[0m\n",
      "│   ├── \u001b[38;5;33mrun\u001b[0m\n",
      "│   └── \u001b[38;5;33mwork\u001b[0m\n",
      "└── \u001b[38;5;33mrecipe_dataset2_20220927_103100\u001b[0m\n",
      "    ├── index.html\n",
      "    ├── \u001b[38;5;33mplots\u001b[0m\n",
      "    ├── \u001b[38;5;33mrun\u001b[0m\n",
      "    └── \u001b[38;5;33mwork\u001b[0m\n",
      "\n",
      "8 directories, 2 files\n"
     ]
    }
   ],
   "source": [
    "# Check generated results\n",
    "!tree -L 2 ~/esmvaltool_output/"
   ]
  }
 ],
 "metadata": {
  "kernelspec": {
   "display_name": "Python 3 (ipykernel)",
   "language": "python",
   "name": "python3"
  },
  "language_info": {
   "codemirror_mode": {
    "name": "ipython",
    "version": 3
   },
   "file_extension": ".py",
   "mimetype": "text/x-python",
   "name": "python",
   "nbconvert_exporter": "python",
   "pygments_lexer": "ipython3",
   "version": "3.9.13"
  },
  "vscode": {
   "interpreter": {
    "hash": "02835d5cd57458205e59899edb11fdcb9a0651fb5a52f81360dd4343685cd4f4"
   }
  }
 },
 "nbformat": 4,
 "nbformat_minor": 5
}
